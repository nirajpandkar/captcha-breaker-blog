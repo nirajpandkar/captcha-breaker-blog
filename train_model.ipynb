{
 "cells": [
  {
   "cell_type": "code",
   "execution_count": 1,
   "metadata": {},
   "outputs": [
    {
     "name": "stderr",
     "output_type": "stream",
     "text": [
      "Using TensorFlow backend.\n"
     ]
    }
   ],
   "source": [
    "from sklearn.preprocessing import LabelBinarizer\n",
    "from sklearn.model_selection import train_test_split\n",
    "from sklearn.metrics import classification_report\n",
    "from keras.preprocessing.image import img_to_array\n",
    "from keras.optimizers import SGD\n",
    "from keras.models import model_from_json, load_model\n",
    "from keras.datasets import mnist\n",
    "from keras.models import Sequential\n",
    "from keras.layers import Dense\n",
    "from keras.layers import Dropout\n",
    "from keras.layers import Flatten\n",
    "from keras.layers.convolutional import Conv2D\n",
    "from keras.layers.convolutional import MaxPooling2D\n",
    "from preprocess_image import preprocess\n",
    "\n",
    "import matplotlib.pyplot as plt\n",
    "from imutils import paths\n",
    "import numpy as np\n",
    "import argparse\n",
    "import cv2\n",
    "import os"
   ]
  },
  {
   "cell_type": "markdown",
   "metadata": {},
   "source": [
    "# Trying home-made pretrained MNIST model with validation 80% accuracy"
   ]
  },
  {
   "cell_type": "code",
   "execution_count": 63,
   "metadata": {},
   "outputs": [
    {
     "name": "stdout",
     "output_type": "stream",
     "text": [
      "Loaded model\n"
     ]
    }
   ],
   "source": [
    "json_file = open(\"model80.json\", \"r\")\n",
    "loaded_model_json = json_file.read()\n",
    "json_file.close()\n",
    "loaded_model = model_from_json(loaded_model_json)\n",
    "\n",
    "loaded_model.load_weights(\"model80.h5\")\n",
    "\n",
    "print(\"Loaded model\")"
   ]
  },
  {
   "cell_type": "code",
   "execution_count": 93,
   "metadata": {},
   "outputs": [],
   "source": [
    "predictions = []\n",
    "for d in data:\n",
    "    predictions.append(np.argmax(loaded_model.predict(d.reshape(1,28,28,1))))"
   ]
  },
  {
   "cell_type": "code",
   "execution_count": 94,
   "metadata": {},
   "outputs": [
    {
     "data": {
      "text/plain": [
       "0.86245353159851301"
      ]
     },
     "execution_count": 94,
     "metadata": {},
     "output_type": "execute_result"
    }
   ],
   "source": [
    "labels = [int(label) for label in labels]\n",
    "\n",
    "accuracy_score(labels, predictions)"
   ]
  },
  {
   "cell_type": "markdown",
   "metadata": {},
   "source": [
    "# Trying downloaded pretrained model with 99% accuracy"
   ]
  },
  {
   "cell_type": "code",
   "execution_count": 95,
   "metadata": {},
   "outputs": [
    {
     "name": "stderr",
     "output_type": "stream",
     "text": [
      "/home/niraj/anaconda3/envs/fastai/lib/python3.6/site-packages/keras/models.py:287: UserWarning: Error in loading the saved optimizer state. As a result, your model is starting with a freshly initialized optimizer.\n",
      "  warnings.warn('Error in loading the saved optimizer '\n"
     ]
    }
   ],
   "source": [
    "model_99 = load_model(\"cnn.h5\")"
   ]
  },
  {
   "cell_type": "code",
   "execution_count": 96,
   "metadata": {},
   "outputs": [],
   "source": [
    "data = np.array(data, dtype=\"float\") / 255.0\n",
    "predictions = []\n",
    "\n",
    "for d in data:\n",
    "    predictions.append(np.argmax(model_99.predict(d.reshape(1,28,28,1))))"
   ]
  },
  {
   "cell_type": "code",
   "execution_count": null,
   "metadata": {},
   "outputs": [],
   "source": [
    "accuracy_score(labels, predictions)"
   ]
  },
  {
   "cell_type": "markdown",
   "metadata": {},
   "source": [
    "# Training from scratch"
   ]
  },
  {
   "cell_type": "code",
   "execution_count": 13,
   "metadata": {},
   "outputs": [],
   "source": [
    "# initialize the data and labels\n",
    "data = []\n",
    "labels = []\n",
    "\n",
    "# loop over the input images\n",
    "for imagePath in paths.list_images(\"data\"):\n",
    "# load the image, pre-process it, and store it in the data list\n",
    "    image = cv2.imread(imagePath)\n",
    "    image = cv2.cvtColor(image, cv2.COLOR_BGR2GRAY)\n",
    "    image = preprocess(image, 28, 28)\n",
    "    image = img_to_array(image)\n",
    "    data.append(image)\n",
    "    label = imagePath.split(os.path.sep)[-2]\n",
    "    labels.append(label)"
   ]
  },
  {
   "cell_type": "code",
   "execution_count": 14,
   "metadata": {},
   "outputs": [],
   "source": [
    "# from keras.utils import np_utils\n",
    "# labels = np_utils.to_categorical(labels, num_classes=8)\n",
    "data = np.array(data, dtype=\"float\") / 255.0"
   ]
  },
  {
   "cell_type": "code",
   "execution_count": 37,
   "metadata": {},
   "outputs": [],
   "source": [
    "# Split train and test\n",
    "X_train, X_test, y_train, y_test = train_test_split(data, labels, test_size=0.2, random_state=42)"
   ]
  },
  {
   "cell_type": "code",
   "execution_count": 17,
   "metadata": {},
   "outputs": [
    {
     "data": {
      "image/png": "[encoded data removed]",
      "text/plain": [
       "<Figure size 1440x288 with 5 Axes>"
      ]
     },
     "metadata": {
      "needs_background": "light"
     },
     "output_type": "display_data"
    }
   ],
   "source": [
    "plt.figure(figsize=(20,4))\n",
    "for index, (image, label) in enumerate(zip(X_test[0:5], y_test[0:5])):\n",
    " plt.subplot(1, 5, index + 1)\n",
    " plt.imshow(np.reshape(image, (28,28)), cmap=plt.cm.gray)\n",
    " plt.title('Training: %s\\n' % str(label), fontsize = 20)"
   ]
  },
  {
   "cell_type": "code",
   "execution_count": 38,
   "metadata": {},
   "outputs": [],
   "source": [
    "label_binarizer = LabelBinarizer().fit(y_train)\n",
    "y_train_ = label_binarizer.transform(y_train)\n",
    "y_test = label_binarizer.transform(y_test)"
   ]
  },
  {
   "cell_type": "code",
   "execution_count": 69,
   "metadata": {},
   "outputs": [],
   "source": [
    "pred_dict = sorted(dict(set([(np.argmax(onehot),label) for onehot, label in zip(y_train_, y_train)])).items(), key = lambda x: x[0])"
   ]
  },
  {
   "cell_type": "code",
   "execution_count": 21,
   "metadata": {},
   "outputs": [
    {
     "data": {
      "text/plain": [
       "(615, 28, 28, 1)"
      ]
     },
     "execution_count": 21,
     "metadata": {},
     "output_type": "execute_result"
    }
   ],
   "source": [
    "X_train.shape"
   ]
  },
  {
   "cell_type": "code",
   "execution_count": 22,
   "metadata": {},
   "outputs": [],
   "source": [
    "num_classes = y_train.shape[1]"
   ]
  },
  {
   "cell_type": "code",
   "execution_count": 23,
   "metadata": {},
   "outputs": [],
   "source": [
    "def baseline_model():\n",
    "\t# create model\n",
    "\tmodel = Sequential()\n",
    "\tmodel.add(Conv2D(32, (5, 5), input_shape=(28, 28, 1), activation='relu'))\n",
    "\tmodel.add(MaxPooling2D(pool_size=(2, 2)))\n",
    "\tmodel.add(Conv2D(64, (3, 3), activation='relu'))\n",
    "\tmodel.add(MaxPooling2D(pool_size=(2,2)))\n",
    "\tmodel.add(Flatten())\n",
    "\tmodel.add(Dropout(0.2))\n",
    "\tmodel.add(Dense(300, activation='relu'))\n",
    "\tmodel.add(Dense(300, activation='relu'))\n",
    "\tmodel.add(Dense(num_classes, activation='softmax'))\n",
    "\t# Compile model\n",
    "\tmodel.compile(loss='categorical_crossentropy', optimizer='adam', metrics=['accuracy'])\n",
    "\treturn model"
   ]
  },
  {
   "cell_type": "code",
   "execution_count": 27,
   "metadata": {},
   "outputs": [],
   "source": [
    "model = baseline_model()"
   ]
  },
  {
   "cell_type": "code",
   "execution_count": 31,
   "metadata": {},
   "outputs": [
    {
     "name": "stdout",
     "output_type": "stream",
     "text": [
      "Train on 615 samples, validate on 154 samples\n",
      "Epoch 1/10\n",
      "615/615 [==============================] - 1s 876us/step - loss: 0.0474 - acc: 0.9919 - val_loss: 0.7928 - val_acc: 0.8896\n",
      "Epoch 2/10\n",
      "615/615 [==============================] - 1s 884us/step - loss: 0.0396 - acc: 0.9935 - val_loss: 0.7017 - val_acc: 0.8896\n",
      "Epoch 3/10\n",
      "615/615 [==============================] - 1s 897us/step - loss: 0.0469 - acc: 0.9902 - val_loss: 0.7705 - val_acc: 0.8961\n",
      "Epoch 4/10\n",
      "615/615 [==============================] - 1s 838us/step - loss: 0.1060 - acc: 0.9837 - val_loss: 0.7022 - val_acc: 0.8766\n",
      "Epoch 5/10\n",
      "615/615 [==============================] - 1s 870us/step - loss: 0.0915 - acc: 0.9789 - val_loss: 0.8236 - val_acc: 0.8636\n",
      "Epoch 6/10\n",
      "615/615 [==============================] - 1s 862us/step - loss: 0.0491 - acc: 0.9935 - val_loss: 0.6503 - val_acc: 0.8831\n",
      "Epoch 7/10\n",
      "615/615 [==============================] - 1s 927us/step - loss: 0.0420 - acc: 0.9919 - val_loss: 0.5815 - val_acc: 0.9091\n",
      "Epoch 8/10\n",
      "615/615 [==============================] - 1s 861us/step - loss: 0.0407 - acc: 0.9951 - val_loss: 0.8700 - val_acc: 0.8701\n",
      "Epoch 9/10\n",
      "615/615 [==============================] - 1s 905us/step - loss: 0.0347 - acc: 0.9951 - val_loss: 0.7129 - val_acc: 0.8766\n",
      "Epoch 10/10\n",
      "615/615 [==============================] - 1s 914us/step - loss: 0.0398 - acc: 0.9951 - val_loss: 0.7374 - val_acc: 0.8831\n"
     ]
    },
    {
     "data": {
      "text/plain": [
       "<keras.callbacks.History at 0x7f78190b4a20>"
      ]
     },
     "execution_count": 31,
     "metadata": {},
     "output_type": "execute_result"
    }
   ],
   "source": [
    "model.fit(X_train, y_train, validation_data=(X_test, y_test), batch_size=32, epochs=10)"
   ]
  },
  {
   "cell_type": "code",
   "execution_count": 32,
   "metadata": {},
   "outputs": [],
   "source": [
    "model.save(\"gujrat_baseline.h5\")"
   ]
  },
  {
   "cell_type": "code",
   "execution_count": 34,
   "metadata": {},
   "outputs": [
    {
     "data": {
      "text/plain": [
       "array([[7.78005660e-09, 1.43501921e-08, 1.58114410e-10, ...,\n",
       "        1.03021529e-10, 5.77819662e-07, 8.17709678e-10],\n",
       "       [7.80240239e-13, 5.18559584e-10, 7.43852476e-15, ...,\n",
       "        2.17898987e-25, 1.59743902e-26, 5.80383623e-22],\n",
       "       [6.83052139e-12, 8.74564229e-15, 1.05097264e-23, ...,\n",
       "        9.05190626e-23, 1.51261190e-28, 3.33947967e-20],\n",
       "       ...,\n",
       "       [1.83877876e-06, 3.94984818e-04, 4.01748251e-03, ...,\n",
       "        6.30042807e-04, 1.03658542e-01, 1.41592976e-02],\n",
       "       [1.52730476e-14, 1.11518962e-11, 3.51979904e-19, ...,\n",
       "        1.43976508e-25, 3.23672870e-29, 8.84169896e-24],\n",
       "       [8.43584402e-09, 6.96794416e-07, 1.42131476e-05, ...,\n",
       "        5.22891802e-14, 2.81031931e-09, 1.71914462e-11]], dtype=float32)"
      ]
     },
     "execution_count": 34,
     "metadata": {},
     "output_type": "execute_result"
    }
   ],
   "source": [
    "model.predict(X_test)"
   ]
  },
  {
   "cell_type": "code",
   "execution_count": 80,
   "metadata": {},
   "outputs": [
    {
     "data": {
      "image/png": "[encoded data removed]",
      "text/plain": [
       "<Figure size 7200x1440 with 15 Axes>"
      ]
     },
     "metadata": {
      "needs_background": "light"
     },
     "output_type": "display_data"
    }
   ],
   "source": [
    "plt.figure(figsize=(100,20))\n",
    "for index, (image, label) in enumerate(zip(X_test[15:30], y_test[0:15])):\n",
    "    plt.subplot(1, 15, index + 1)\n",
    "    plt.imshow(np.reshape(image, (28,28)), cmap=plt.cm.gray)\n",
    "    pred = model.predict(image.reshape(1,28,28,1))\n",
    "    plt.title('Prediction: %s\\n' % str(pred_dict[np.argmax(pred)]), fontsize = 20)"
   ]
  },
  {
   "cell_type": "code",
   "execution_count": 79,
   "metadata": {},
   "outputs": [
    {
     "data": {
      "text/plain": [
       "[(0, '2'),\n",
       " (1, '3'),\n",
       " (2, '4'),\n",
       " (3, '5'),\n",
       " (4, '7'),\n",
       " (5, '8'),\n",
       " (6, 'A'),\n",
       " (7, 'B'),\n",
       " (8, 'C'),\n",
       " (9, 'D'),\n",
       " (10, 'E'),\n",
       " (11, 'F'),\n",
       " (12, 'G'),\n",
       " (13, 'H'),\n",
       " (14, 'I'),\n",
       " (15, 'J'),\n",
       " (16, 'K'),\n",
       " (17, 'L'),\n",
       " (18, 'N'),\n",
       " (19, 'O'),\n",
       " (20, 'P'),\n",
       " (21, 'Q'),\n",
       " (22, 'R'),\n",
       " (23, 'S'),\n",
       " (24, 'T'),\n",
       " (25, 'U'),\n",
       " (26, 'V'),\n",
       " (27, 'X'),\n",
       " (28, 'Y'),\n",
       " (29, 'É')]"
      ]
     },
     "execution_count": 79,
     "metadata": {},
     "output_type": "execute_result"
    }
   ],
   "source": [
    "pred_dict"
   ]
  },
  {
   "cell_type": "code",
   "execution_count": null,
   "metadata": {},
   "outputs": [],
   "source": []
  }
 ],
 "metadata": {
  "kernelspec": {
   "display_name": "Python 2",
   "language": "python",
   "name": "python2"
  },
  "language_info": {
   "codemirror_mode": {
    "name": "ipython",
    "version": 3
   },
   "file_extension": ".py",
   "mimetype": "text/x-python",
   "name": "python",
   "nbconvert_exporter": "python",
   "pygments_lexer": "ipython3",
   "version": "3.6.8"
  }
 },
 "nbformat": 4,
 "nbformat_minor": 2
}
